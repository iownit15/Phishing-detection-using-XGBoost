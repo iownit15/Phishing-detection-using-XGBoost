{
  "nbformat": 4,
  "nbformat_minor": 0,
  "metadata": {
    "colab": {
      "name": "ISAA Rev 3.ipynb",
      "provenance": []
    },
    "kernelspec": {
      "name": "python3",
      "display_name": "Python 3"
    },
    "language_info": {
      "name": "python"
    }
  },
  "cells": [
    {
      "cell_type": "code",
      "metadata": {
        "id": "t5xay5itEWnr",
        "colab": {
          "base_uri": "https://localhost:8080/"
        },
        "outputId": "646f67e2-9cd8-453b-c9ca-1b40dda70382"
      },
      "source": [
        "pip install tldextract"
      ],
      "execution_count": 1,
      "outputs": [
        {
          "output_type": "stream",
          "name": "stdout",
          "text": [
            "Requirement already satisfied: tldextract in /usr/local/lib/python3.7/dist-packages (3.1.2)\n",
            "Requirement already satisfied: requests-file>=1.4 in /usr/local/lib/python3.7/dist-packages (from tldextract) (1.5.1)\n",
            "Requirement already satisfied: requests>=2.1.0 in /usr/local/lib/python3.7/dist-packages (from tldextract) (2.23.0)\n",
            "Requirement already satisfied: filelock>=3.0.8 in /usr/local/lib/python3.7/dist-packages (from tldextract) (3.4.0)\n",
            "Requirement already satisfied: idna in /usr/local/lib/python3.7/dist-packages (from tldextract) (2.10)\n",
            "Requirement already satisfied: urllib3!=1.25.0,!=1.25.1,<1.26,>=1.21.1 in /usr/local/lib/python3.7/dist-packages (from requests>=2.1.0->tldextract) (1.24.3)\n",
            "Requirement already satisfied: certifi>=2017.4.17 in /usr/local/lib/python3.7/dist-packages (from requests>=2.1.0->tldextract) (2021.10.8)\n",
            "Requirement already satisfied: chardet<4,>=3.0.2 in /usr/local/lib/python3.7/dist-packages (from requests>=2.1.0->tldextract) (3.0.4)\n",
            "Requirement already satisfied: six in /usr/local/lib/python3.7/dist-packages (from requests-file>=1.4->tldextract) (1.15.0)\n"
          ]
        }
      ]
    },
    {
      "cell_type": "code",
      "metadata": {
        "id": "g0dIRm5XEcQ_",
        "colab": {
          "base_uri": "https://localhost:8080/"
        },
        "outputId": "556ef085-3a66-4997-f7fe-40e1393a0a06"
      },
      "source": [
        "pip install python-whois"
      ],
      "execution_count": 2,
      "outputs": [
        {
          "output_type": "stream",
          "name": "stdout",
          "text": [
            "Requirement already satisfied: python-whois in /usr/local/lib/python3.7/dist-packages (0.7.3)\n",
            "Requirement already satisfied: future in /usr/local/lib/python3.7/dist-packages (from python-whois) (0.16.0)\n"
          ]
        }
      ]
    },
    {
      "cell_type": "code",
      "metadata": {
        "id": "kJVAt2-ELMvE"
      },
      "source": [
        "# !pip install git+https://github.com/rthalley/dnspython"
      ],
      "execution_count": 3,
      "outputs": []
    },
    {
      "cell_type": "code",
      "metadata": {
        "id": "FFHor3HoEeBS"
      },
      "source": [
        "from tldextract import extract\n",
        "import ssl\n",
        "import socket\n",
        "from bs4 import BeautifulSoup\n",
        "import urllib.request\n",
        "import whois\n",
        "import datetime\n",
        "from googlesearch import search\n",
        "import re\n",
        "# import dnspython\n",
        "\n",
        "#  1 = OK\n",
        "#  0 = Suspicious\n",
        "#  -1 = Phish\n",
        "\n",
        "def url_having_ip(url): #1\n",
        "    having_ip=0\n",
        "    flag=0\n",
        "    symbol = re.search(r'(((\\d)+)\\.?)+',url)\n",
        "    if(symbol!=None):\n",
        "        having_ip = -1\n",
        "    else:\n",
        "        having_ip = 1 \n",
        "    return(having_ip)\n",
        "\n",
        "def url_length(url): #2\n",
        "    length=len(url)\n",
        "    if(length<54):\n",
        "        return 1\n",
        "    elif(54<=length<=75):\n",
        "        return 0\n",
        "    else:\n",
        "        return -1\n",
        "\n",
        "def url_short(url): #3\n",
        "    symbol1 = re.search(r'(cutt\\.ly|bit\\.ly|tinyurl\\.com)+',url)\n",
        "    if(symbol1!=None):\n",
        "        return -1\n",
        "    else:\n",
        "        return 1 \n",
        "\n",
        "def having_at_symbol(url): #4\n",
        "    symbol=re.findall(r'@',url)\n",
        "    if(len(symbol)==0):\n",
        "        return 1\n",
        "    else:\n",
        "        return -1 \n",
        "    \n",
        "def doubleSlash(url): #5\n",
        "    if(url.find(\"//\", 8)!=-1):\n",
        "        return -1\n",
        "    else:\n",
        "        return 1\n",
        "\n",
        "def prefix_Suffix(url): #6\n",
        "    SubDom, Dom, Suffix = extract(url)\n",
        "    if(Dom.count('-')):\n",
        "        return -1\n",
        "    else:\n",
        "        return 1\n",
        "\n",
        "def sub_Dom(url): #7\n",
        "    SubDom, Dom, Suffix = extract(url)\n",
        "    if(SubDom.count('.')==0):\n",
        "        return 1\n",
        "    elif(SubDom.count('.')==1):\n",
        "        return 0\n",
        "    else:\n",
        "        return -1\n",
        "\n",
        "def SSLfinal_State(url): #8\n",
        "    try:    \n",
        "        if(re.search('https',url)):\n",
        "            usehttps = 1\n",
        "        else:\n",
        "            usehttps = 0\n",
        "#===============================================================================================================================================================================================================================================================================\n",
        "        SubDom, Dom, Suffix = extract(url)\n",
        "        host_name = Dom + \".\" + Suffix\n",
        "        context = ssl.create_default_context()\n",
        "        sct = context.wrap_socket(socket.socket(), server_hostname = host_name)\n",
        "        sct.connect((host_name, 443))\n",
        "        certificate = sct.getpeercert()\n",
        "        issuer = dict(x[0] for x in certificate['issuer'])\n",
        "        certificate_Auth = str(issuer['commonName'])\n",
        "        certificate_Auth = certificate_Auth.split()\n",
        "        if(certificate_Auth[0] == \"Network\" or certificate_Auth == \"Deutsche\"):\n",
        "            certificate_Auth = certificate_Auth[0] + \" \" + certificate_Auth[1]\n",
        "        else:\n",
        "            certificate_Auth = certificate_Auth[0]       \n",
        "        trusted_Auth = ['Comodo','Symantec','GoDaddy','GlobalSign','DigiCert','Sectigo','StartCom','Entrust','Verizon','Trustwave','Unizeto','Buypass','QuoVadis','Deutsche Telekom','Network Solutions','SwissSign','IdenTrust','Secom','TWCA','GeoTrust','Thawte','Doster','VeriSign', 'GTS']\n",
        "        startingDate = str(certificate['notBefore'])\n",
        "        endingDate = str(certificate['notAfter'])\n",
        "        startingYear = int(startingDate.split()[3])\n",
        "        endingYear = int(endingDate.split()[3])\n",
        "        Age_of_certificate = endingYear-startingYear\n",
        "#===============================================================================================================================================================================================================================================================================\n",
        "        \n",
        "        if((usehttps==1) and (certificate_Auth in trusted_Auth) and (Age_of_certificate>=1) ):\n",
        "            return 1 \n",
        "        \n",
        "        elif((usehttps==1) and (certificate_Auth not in trusted_Auth)):\n",
        "            return 0 \n",
        "        elif(certificate_Auth == 'GTS'):\n",
        "            return 1\n",
        "        else:\n",
        "            return -1 \n",
        "                \n",
        "    except Exception as e:\n",
        "        return -1\n",
        "\n",
        "def Dom_registration(url): #9\n",
        "    try:\n",
        "        w = whois.whois(url)\n",
        "        updated = w.updated_date\n",
        "        exp = w.expiration_date\n",
        "        if(isinstance(exp, list)):\n",
        "            exp=exp[0]\n",
        "        if(isinstance(updated, list)):\n",
        "            updated=updated[0]\n",
        "        length = (exp-updated).days\n",
        "        if(length<=365):\n",
        "            return -1\n",
        "        else:\n",
        "            return 1\n",
        "    except Exception as e:\n",
        "        return 0\n",
        "\n",
        "def https_token(url): #10\n",
        "    if(url.find(\"https\")!=-1): \n",
        "        return 1\n",
        "    else:\n",
        "        return -1\n",
        "\n",
        "def request_url(url): #11\n",
        "    try:\n",
        "        SubDom, Dom, Suffix = extract(url)\n",
        "        websiteDom = Dom\n",
        "        \n",
        "        opener = urllib.request.urlopen(url).read()\n",
        "        soup = BeautifulSoup(opener, 'lxml')\n",
        "        imgs = soup.findAll('img', src=True)\n",
        "        total = len(imgs)\n",
        "        \n",
        "        linked_to_same = 0\n",
        "        avg =0\n",
        "        for image in imgs:\n",
        "            SubDom, Dom, Suffix = extract(image['src'])\n",
        "            imageDom = Dom\n",
        "            if(websiteDom==imageDom or imageDom==''):\n",
        "                linked_to_same = linked_to_same + 1\n",
        "        vids = soup.findAll('video', src=True)\n",
        "        total = total + len(vids)\n",
        "        \n",
        "        for video in vids:\n",
        "            SubDom, Dom, Suffix = extract(video['src'])\n",
        "            vidDom = Dom\n",
        "            if(websiteDom==vidDom or vidDom==''):\n",
        "                linked_to_same = linked_to_same + 1\n",
        "                \n",
        "        linked_outside = total-linked_to_same\n",
        "        if(total!=0):\n",
        "            avg = linked_outside/total\n",
        "            \n",
        "        if(avg<0.22):\n",
        "            return 1\n",
        "        elif(0.22<=avg<=0.61):\n",
        "            return 0\n",
        "        else:\n",
        "            return -1\n",
        "    except Exception as e:\n",
        "        return 0\n",
        "\n",
        "\n",
        "def url_of_anchor(url): #12\n",
        "    try:\n",
        "        SubDom, Dom, Suffix = extract(url)\n",
        "        websiteDom = Dom\n",
        "        \n",
        "        opener = urllib.request.urlopen(url).read()\n",
        "        soup = BeautifulSoup(opener, 'lxml')\n",
        "        anchors = soup.findAll('a', href=True)\n",
        "        total = len(anchors)\n",
        "        linked_to_same = 0\n",
        "        avg = 0\n",
        "        for anchor in anchors:\n",
        "            SubDom, Dom, Suffix = extract(anchor['href'])\n",
        "            anchorDom = Dom\n",
        "            if(websiteDom==anchorDom or anchorDom==''):\n",
        "                linked_to_same = linked_to_same + 1\n",
        "        linked_outside = total-linked_to_same\n",
        "        if(total!=0):\n",
        "            avg = linked_outside/total\n",
        "            \n",
        "        if(avg<0.31):\n",
        "            return 1\n",
        "        elif(0.31<=avg<=0.67):\n",
        "            return 0\n",
        "        else:\n",
        "            return -1\n",
        "    except Exception as e:\n",
        "        return 0\n",
        "    \n",
        "    \n",
        "def Links_in_tags(url): #13\n",
        "    try:\n",
        "        opener = urllib.request.urlopen(url).read()\n",
        "        soup = BeautifulSoup(opener, 'lxml')\n",
        "        \n",
        "        no_of_meta =0\n",
        "        no_of_link =0\n",
        "        no_of_script =0\n",
        "        anchors=0\n",
        "        avg =0\n",
        "        \n",
        "        for meta in soup.find_all('meta'):\n",
        "            no_of_meta = no_of_meta+1\n",
        "        for link in soup.find_all('link'):\n",
        "            no_of_link = no_of_link +1\n",
        "        for script in soup.find_all('script'):\n",
        "            no_of_script = no_of_script+1\n",
        "        for anchor in soup.find_all('a'):\n",
        "            anchors = anchors+1\n",
        "        \n",
        "        total = no_of_meta + no_of_link + no_of_script+anchors\n",
        "        tags = no_of_meta + no_of_link + no_of_script\n",
        "        \n",
        "        if(total!=0):\n",
        "            avg = tags/total\n",
        "\n",
        "        if(avg<0.17):\n",
        "            return 1\n",
        "        elif(0.17<=avg<=0.81):\n",
        "            return 0\n",
        "        else:\n",
        "            return -1        \n",
        "    except Exception as e:  \n",
        "        return 0\n",
        "\n",
        "def email_submit(url): #14\n",
        "    try:\n",
        "        opener = urllib.request.urlopen(url).read()\n",
        "        soup = BeautifulSoup(opener, 'lxml')\n",
        "        if(soup.find('mailto:')):\n",
        "            return -1\n",
        "        else:\n",
        "            return 1 \n",
        "    except:\n",
        "        return 0\n",
        "\n",
        "def age_of_Dom(url): #15\n",
        "    try:\n",
        "        Stats = whois.whois(url)\n",
        "        start_date = Stats.creation_date\n",
        "        current_date = datetime.datetime.now()\n",
        "        if(isinstance(start_date, list)):\n",
        "            start_date=start_date[0]\n",
        "        if(isinstance(current_date, list)):\n",
        "            current_date=current_date[0]\n",
        "        age =(current_date-start_date).days\n",
        "        if(age>=180):\n",
        "            return 1\n",
        "        else:\n",
        "            return -1\n",
        "    except Exception as e:\n",
        "        return 0\n",
        "        \n",
        "# def dns(url):\n",
        "#     print(dnspython.Resolver.query(url, 'A'))\n",
        "#     return 0\n",
        "\n",
        "def web_traffic(url): #16\n",
        "    try:\n",
        "        rank = BeautifulSoup(urllib.request.urlopen(\"http://data.alexa.com/data?cli=10&dat=s&url=\" + url).read(), \"xml\").find(\"REACH\")['RANK']\n",
        "    except TypeError:\n",
        "        return -1\n",
        "    rank = int(rank)\n",
        "    if (rank < 100000):\n",
        "        return 1\n",
        "    else:\n",
        "        return 0\n",
        "\n",
        "def google_index(url): #17\n",
        "    try:\n",
        "        site = search(url)\n",
        "        return 1 if site else -1\n",
        "    except:\n",
        "        return 0\n",
        "\n",
        "def main(url):  \n",
        "    check = [[url_having_ip(url),\n",
        "              url_length(url),\n",
        "              url_short(url),\n",
        "              having_at_symbol(url),\n",
        "              doubleSlash(url),\n",
        "              prefix_Suffix(url),\n",
        "              sub_Dom(url),\n",
        "              SSLfinal_State(url),\n",
        "              Dom_registration(url),\n",
        "              https_token(url),\n",
        "              request_url(url),\n",
        "              url_of_anchor(url),\n",
        "              Links_in_tags(url),\n",
        "              email_submit(url),\n",
        "              age_of_Dom(url),\n",
        "              # dns(url),\n",
        "              web_traffic(url),\n",
        "              google_index(url)]]\n",
        "\n",
        "    print(check)\n",
        "    return check   "
      ],
      "execution_count": 4,
      "outputs": []
    },
    {
      "cell_type": "markdown",
      "metadata": {
        "id": "sO8VPU6n3vES"
      },
      "source": [
        "## Importing the libraries"
      ]
    },
    {
      "cell_type": "code",
      "metadata": {
        "id": "2PL_BsBSEgxI"
      },
      "source": [
        "import matplotlib.pyplot as plt\n",
        "import seaborn as sns\n",
        "import pandas as pd\n",
        "import numpy as np\n",
        "\n",
        "%matplotlib inline"
      ],
      "execution_count": 5,
      "outputs": []
    },
    {
      "cell_type": "markdown",
      "metadata": {
        "id": "zGpwK5XD386E"
      },
      "source": [
        "## Importing and reading the dataset"
      ]
    },
    {
      "cell_type": "code",
      "metadata": {
        "id": "F4ENHKhaEjhL",
        "colab": {
          "base_uri": "https://localhost:8080/",
          "height": 226
        },
        "outputId": "2c83dd41-bb0b-4438-d210-9431bee4dd08"
      },
      "source": [
        "df = pd.read_csv('dataset1.csv')\n",
        "df.head()"
      ],
      "execution_count": 6,
      "outputs": [
        {
          "output_type": "execute_result",
          "data": {
            "text/html": [
              "<div>\n",
              "<style scoped>\n",
              "    .dataframe tbody tr th:only-of-type {\n",
              "        vertical-align: middle;\n",
              "    }\n",
              "\n",
              "    .dataframe tbody tr th {\n",
              "        vertical-align: top;\n",
              "    }\n",
              "\n",
              "    .dataframe thead th {\n",
              "        text-align: right;\n",
              "    }\n",
              "</style>\n",
              "<table border=\"1\" class=\"dataframe\">\n",
              "  <thead>\n",
              "    <tr style=\"text-align: right;\">\n",
              "      <th></th>\n",
              "      <th>index</th>\n",
              "      <th>having_IP_Address</th>\n",
              "      <th>URL_Length</th>\n",
              "      <th>Shortining_Service</th>\n",
              "      <th>having_At_Symbol</th>\n",
              "      <th>double_slash_redirecting</th>\n",
              "      <th>Prefix_Suffix</th>\n",
              "      <th>having_Sub_Domain</th>\n",
              "      <th>SSLfinal_State</th>\n",
              "      <th>Domain_registeration_length</th>\n",
              "      <th>HTTPS_token</th>\n",
              "      <th>Request_URL</th>\n",
              "      <th>URL_of_Anchor</th>\n",
              "      <th>Links_in_tags</th>\n",
              "      <th>Submitting_to_email</th>\n",
              "      <th>age_of_domain</th>\n",
              "      <th>web_traffic</th>\n",
              "      <th>Google_Index</th>\n",
              "      <th>Result</th>\n",
              "    </tr>\n",
              "  </thead>\n",
              "  <tbody>\n",
              "    <tr>\n",
              "      <th>0</th>\n",
              "      <td>1</td>\n",
              "      <td>-1</td>\n",
              "      <td>1</td>\n",
              "      <td>1</td>\n",
              "      <td>1</td>\n",
              "      <td>-1</td>\n",
              "      <td>-1</td>\n",
              "      <td>-1</td>\n",
              "      <td>-1</td>\n",
              "      <td>-1</td>\n",
              "      <td>-1</td>\n",
              "      <td>1</td>\n",
              "      <td>-1</td>\n",
              "      <td>1</td>\n",
              "      <td>-1</td>\n",
              "      <td>-1</td>\n",
              "      <td>-1</td>\n",
              "      <td>1</td>\n",
              "      <td>-1</td>\n",
              "    </tr>\n",
              "    <tr>\n",
              "      <th>1</th>\n",
              "      <td>2</td>\n",
              "      <td>1</td>\n",
              "      <td>1</td>\n",
              "      <td>1</td>\n",
              "      <td>1</td>\n",
              "      <td>1</td>\n",
              "      <td>-1</td>\n",
              "      <td>0</td>\n",
              "      <td>1</td>\n",
              "      <td>-1</td>\n",
              "      <td>-1</td>\n",
              "      <td>1</td>\n",
              "      <td>0</td>\n",
              "      <td>-1</td>\n",
              "      <td>1</td>\n",
              "      <td>-1</td>\n",
              "      <td>0</td>\n",
              "      <td>1</td>\n",
              "      <td>-1</td>\n",
              "    </tr>\n",
              "    <tr>\n",
              "      <th>2</th>\n",
              "      <td>3</td>\n",
              "      <td>1</td>\n",
              "      <td>0</td>\n",
              "      <td>1</td>\n",
              "      <td>1</td>\n",
              "      <td>1</td>\n",
              "      <td>-1</td>\n",
              "      <td>-1</td>\n",
              "      <td>-1</td>\n",
              "      <td>-1</td>\n",
              "      <td>-1</td>\n",
              "      <td>1</td>\n",
              "      <td>0</td>\n",
              "      <td>-1</td>\n",
              "      <td>-1</td>\n",
              "      <td>1</td>\n",
              "      <td>1</td>\n",
              "      <td>1</td>\n",
              "      <td>-1</td>\n",
              "    </tr>\n",
              "    <tr>\n",
              "      <th>3</th>\n",
              "      <td>4</td>\n",
              "      <td>1</td>\n",
              "      <td>0</td>\n",
              "      <td>1</td>\n",
              "      <td>1</td>\n",
              "      <td>1</td>\n",
              "      <td>-1</td>\n",
              "      <td>-1</td>\n",
              "      <td>-1</td>\n",
              "      <td>1</td>\n",
              "      <td>-1</td>\n",
              "      <td>-1</td>\n",
              "      <td>0</td>\n",
              "      <td>0</td>\n",
              "      <td>1</td>\n",
              "      <td>-1</td>\n",
              "      <td>1</td>\n",
              "      <td>1</td>\n",
              "      <td>-1</td>\n",
              "    </tr>\n",
              "    <tr>\n",
              "      <th>4</th>\n",
              "      <td>5</td>\n",
              "      <td>1</td>\n",
              "      <td>0</td>\n",
              "      <td>-1</td>\n",
              "      <td>1</td>\n",
              "      <td>1</td>\n",
              "      <td>-1</td>\n",
              "      <td>1</td>\n",
              "      <td>1</td>\n",
              "      <td>-1</td>\n",
              "      <td>1</td>\n",
              "      <td>1</td>\n",
              "      <td>0</td>\n",
              "      <td>0</td>\n",
              "      <td>1</td>\n",
              "      <td>-1</td>\n",
              "      <td>0</td>\n",
              "      <td>1</td>\n",
              "      <td>1</td>\n",
              "    </tr>\n",
              "  </tbody>\n",
              "</table>\n",
              "</div>"
            ],
            "text/plain": [
              "   index  having_IP_Address  URL_Length  ...  web_traffic  Google_Index  Result\n",
              "0      1                 -1           1  ...           -1             1      -1\n",
              "1      2                  1           1  ...            0             1      -1\n",
              "2      3                  1           0  ...            1             1      -1\n",
              "3      4                  1           0  ...            1             1      -1\n",
              "4      5                  1           0  ...            0             1       1\n",
              "\n",
              "[5 rows x 19 columns]"
            ]
          },
          "metadata": {},
          "execution_count": 6
        }
      ]
    },
    {
      "cell_type": "code",
      "metadata": {
        "colab": {
          "base_uri": "https://localhost:8080/"
        },
        "id": "1HvXOPMbIUma",
        "outputId": "4553f61d-73e4-48a3-94eb-b2b55f5d9915"
      },
      "source": [
        "df.columns"
      ],
      "execution_count": 7,
      "outputs": [
        {
          "output_type": "execute_result",
          "data": {
            "text/plain": [
              "Index(['index', 'having_IP_Address', 'URL_Length', 'Shortining_Service',\n",
              "       'having_At_Symbol', 'double_slash_redirecting', 'Prefix_Suffix',\n",
              "       'having_Sub_Domain', 'SSLfinal_State', 'Domain_registeration_length',\n",
              "       'HTTPS_token', 'Request_URL', 'URL_of_Anchor', 'Links_in_tags',\n",
              "       'Submitting_to_email', 'age_of_domain', 'web_traffic', 'Google_Index',\n",
              "       'Result'],\n",
              "      dtype='object')"
            ]
          },
          "metadata": {},
          "execution_count": 7
        }
      ]
    },
    {
      "cell_type": "code",
      "metadata": {
        "id": "oTtniH5EElAd",
        "colab": {
          "base_uri": "https://localhost:8080/",
          "height": 226
        },
        "outputId": "dcc995a8-cb28-4813-85e7-466c0a30bb5b"
      },
      "source": [
        "df = df.drop(columns=['index'])\n",
        "df.head()"
      ],
      "execution_count": 8,
      "outputs": [
        {
          "output_type": "execute_result",
          "data": {
            "text/html": [
              "<div>\n",
              "<style scoped>\n",
              "    .dataframe tbody tr th:only-of-type {\n",
              "        vertical-align: middle;\n",
              "    }\n",
              "\n",
              "    .dataframe tbody tr th {\n",
              "        vertical-align: top;\n",
              "    }\n",
              "\n",
              "    .dataframe thead th {\n",
              "        text-align: right;\n",
              "    }\n",
              "</style>\n",
              "<table border=\"1\" class=\"dataframe\">\n",
              "  <thead>\n",
              "    <tr style=\"text-align: right;\">\n",
              "      <th></th>\n",
              "      <th>having_IP_Address</th>\n",
              "      <th>URL_Length</th>\n",
              "      <th>Shortining_Service</th>\n",
              "      <th>having_At_Symbol</th>\n",
              "      <th>double_slash_redirecting</th>\n",
              "      <th>Prefix_Suffix</th>\n",
              "      <th>having_Sub_Domain</th>\n",
              "      <th>SSLfinal_State</th>\n",
              "      <th>Domain_registeration_length</th>\n",
              "      <th>HTTPS_token</th>\n",
              "      <th>Request_URL</th>\n",
              "      <th>URL_of_Anchor</th>\n",
              "      <th>Links_in_tags</th>\n",
              "      <th>Submitting_to_email</th>\n",
              "      <th>age_of_domain</th>\n",
              "      <th>web_traffic</th>\n",
              "      <th>Google_Index</th>\n",
              "      <th>Result</th>\n",
              "    </tr>\n",
              "  </thead>\n",
              "  <tbody>\n",
              "    <tr>\n",
              "      <th>0</th>\n",
              "      <td>-1</td>\n",
              "      <td>1</td>\n",
              "      <td>1</td>\n",
              "      <td>1</td>\n",
              "      <td>-1</td>\n",
              "      <td>-1</td>\n",
              "      <td>-1</td>\n",
              "      <td>-1</td>\n",
              "      <td>-1</td>\n",
              "      <td>-1</td>\n",
              "      <td>1</td>\n",
              "      <td>-1</td>\n",
              "      <td>1</td>\n",
              "      <td>-1</td>\n",
              "      <td>-1</td>\n",
              "      <td>-1</td>\n",
              "      <td>1</td>\n",
              "      <td>-1</td>\n",
              "    </tr>\n",
              "    <tr>\n",
              "      <th>1</th>\n",
              "      <td>1</td>\n",
              "      <td>1</td>\n",
              "      <td>1</td>\n",
              "      <td>1</td>\n",
              "      <td>1</td>\n",
              "      <td>-1</td>\n",
              "      <td>0</td>\n",
              "      <td>1</td>\n",
              "      <td>-1</td>\n",
              "      <td>-1</td>\n",
              "      <td>1</td>\n",
              "      <td>0</td>\n",
              "      <td>-1</td>\n",
              "      <td>1</td>\n",
              "      <td>-1</td>\n",
              "      <td>0</td>\n",
              "      <td>1</td>\n",
              "      <td>-1</td>\n",
              "    </tr>\n",
              "    <tr>\n",
              "      <th>2</th>\n",
              "      <td>1</td>\n",
              "      <td>0</td>\n",
              "      <td>1</td>\n",
              "      <td>1</td>\n",
              "      <td>1</td>\n",
              "      <td>-1</td>\n",
              "      <td>-1</td>\n",
              "      <td>-1</td>\n",
              "      <td>-1</td>\n",
              "      <td>-1</td>\n",
              "      <td>1</td>\n",
              "      <td>0</td>\n",
              "      <td>-1</td>\n",
              "      <td>-1</td>\n",
              "      <td>1</td>\n",
              "      <td>1</td>\n",
              "      <td>1</td>\n",
              "      <td>-1</td>\n",
              "    </tr>\n",
              "    <tr>\n",
              "      <th>3</th>\n",
              "      <td>1</td>\n",
              "      <td>0</td>\n",
              "      <td>1</td>\n",
              "      <td>1</td>\n",
              "      <td>1</td>\n",
              "      <td>-1</td>\n",
              "      <td>-1</td>\n",
              "      <td>-1</td>\n",
              "      <td>1</td>\n",
              "      <td>-1</td>\n",
              "      <td>-1</td>\n",
              "      <td>0</td>\n",
              "      <td>0</td>\n",
              "      <td>1</td>\n",
              "      <td>-1</td>\n",
              "      <td>1</td>\n",
              "      <td>1</td>\n",
              "      <td>-1</td>\n",
              "    </tr>\n",
              "    <tr>\n",
              "      <th>4</th>\n",
              "      <td>1</td>\n",
              "      <td>0</td>\n",
              "      <td>-1</td>\n",
              "      <td>1</td>\n",
              "      <td>1</td>\n",
              "      <td>-1</td>\n",
              "      <td>1</td>\n",
              "      <td>1</td>\n",
              "      <td>-1</td>\n",
              "      <td>1</td>\n",
              "      <td>1</td>\n",
              "      <td>0</td>\n",
              "      <td>0</td>\n",
              "      <td>1</td>\n",
              "      <td>-1</td>\n",
              "      <td>0</td>\n",
              "      <td>1</td>\n",
              "      <td>1</td>\n",
              "    </tr>\n",
              "  </tbody>\n",
              "</table>\n",
              "</div>"
            ],
            "text/plain": [
              "   having_IP_Address  URL_Length  ...  Google_Index  Result\n",
              "0                 -1           1  ...             1      -1\n",
              "1                  1           1  ...             1      -1\n",
              "2                  1           0  ...             1      -1\n",
              "3                  1           0  ...             1      -1\n",
              "4                  1           0  ...             1       1\n",
              "\n",
              "[5 rows x 18 columns]"
            ]
          },
          "metadata": {},
          "execution_count": 8
        }
      ]
    },
    {
      "cell_type": "code",
      "metadata": {
        "colab": {
          "base_uri": "https://localhost:8080/",
          "height": 403
        },
        "id": "EDcVGcrsMdmm",
        "outputId": "40dfd394-828a-4c34-bdb6-dc1562a98eb1"
      },
      "source": [
        "print(df['Result'].value_counts())\n",
        "sns.countplot(df['Result'])"
      ],
      "execution_count": 9,
      "outputs": [
        {
          "output_type": "stream",
          "name": "stdout",
          "text": [
            " 1    6157\n",
            "-1    4898\n",
            "Name: Result, dtype: int64\n"
          ]
        },
        {
          "output_type": "stream",
          "name": "stderr",
          "text": [
            "/usr/local/lib/python3.7/dist-packages/seaborn/_decorators.py:43: FutureWarning: Pass the following variable as a keyword arg: x. From version 0.12, the only valid positional argument will be `data`, and passing other arguments without an explicit keyword will result in an error or misinterpretation.\n",
            "  FutureWarning\n"
          ]
        },
        {
          "output_type": "execute_result",
          "data": {
            "text/plain": [
              "<matplotlib.axes._subplots.AxesSubplot at 0x7fa6779bb750>"
            ]
          },
          "metadata": {},
          "execution_count": 9
        },
        {
          "output_type": "display_data",
          "data": {
            "image/png": "[encoded data removed]",
            "text/plain": [
              "<Figure size 432x288 with 1 Axes>"
            ]
          },
          "metadata": {
            "needs_background": "light"
          }
        }
      ]
    },
    {
      "cell_type": "markdown",
      "metadata": {
        "id": "XNn2RnST6_Q-"
      },
      "source": [
        "## Splitting the dataset into the Training set and Test set\n",
        "\n"
      ]
    },
    {
      "cell_type": "code",
      "metadata": {
        "colab": {
          "base_uri": "https://localhost:8080/"
        },
        "id": "mdRtF1QAM8Qb",
        "outputId": "2f05824e-7e60-47b8-ddaa-1f98b95a9f35"
      },
      "source": [
        "X = df.iloc[:, :-1].values\n",
        "y = df.iloc[:, -1].values\n",
        "print(X)\n",
        "print(\"\\n\",y)"
      ],
      "execution_count": 10,
      "outputs": [
        {
          "output_type": "stream",
          "name": "stdout",
          "text": [
            "[[-1  1  1 ... -1 -1  1]\n",
            " [ 1  1  1 ... -1  0  1]\n",
            " [ 1  0  1 ...  1  1  1]\n",
            " ...\n",
            " [ 1 -1  1 ...  1  1  1]\n",
            " [-1 -1  1 ...  1  1  1]\n",
            " [-1 -1  1 ... -1 -1 -1]]\n",
            "\n",
            " [-1 -1 -1 ... -1 -1 -1]\n"
          ]
        }
      ]
    },
    {
      "cell_type": "code",
      "metadata": {
        "id": "_A6aORhRNSJw"
      },
      "source": [
        "from sklearn.model_selection import train_test_split\n",
        "X_train, X_test, y_train, y_test = train_test_split(X, y, test_size = 0.2, random_state = 0)"
      ],
      "execution_count": 11,
      "outputs": []
    },
    {
      "cell_type": "markdown",
      "metadata": {
        "id": "1Y89ctGZ7Mcx"
      },
      "source": [
        "## Creating and training XGBoost on the Training set"
      ]
    },
    {
      "cell_type": "code",
      "metadata": {
        "colab": {
          "base_uri": "https://localhost:8080/"
        },
        "id": "M9RRjg7BNVeB",
        "outputId": "e7c28d7f-3324-448d-ef61-2c24cf70ca90"
      },
      "source": [
        "from xgboost import XGBClassifier\n",
        "classifier = XGBClassifier(booster='gbtree',\n",
        "                           max_depth = 8,\n",
        "                           n_estimators=700,\n",
        "                           learning_rate=0.1,\n",
        "                           nthread=4)\n",
        "classifier.fit(X_train, y_train)"
      ],
      "execution_count": 27,
      "outputs": [
        {
          "output_type": "execute_result",
          "data": {
            "text/plain": [
              "XGBClassifier(max_depth=8, n_estimators=700, nthread=4)"
            ]
          },
          "metadata": {},
          "execution_count": 27
        }
      ]
    },
    {
      "cell_type": "markdown",
      "metadata": {
        "id": "ivqmubzW7dFJ"
      },
      "source": [
        "## Making the Confusion Matrix"
      ]
    },
    {
      "cell_type": "code",
      "metadata": {
        "colab": {
          "base_uri": "https://localhost:8080/"
        },
        "id": "WCdUSIv4OOV9",
        "outputId": "de4ec7c8-6c7f-4c3d-8d38-e05896afea94"
      },
      "source": [
        "from sklearn.metrics import confusion_matrix, accuracy_score\n",
        "y_pred = classifier.predict(X_test)\n",
        "cm = confusion_matrix(y_test, y_pred)\n",
        "print(cm)\n",
        "accuracy_score(y_test, y_pred)"
      ],
      "execution_count": 28,
      "outputs": [
        {
          "output_type": "stream",
          "name": "stdout",
          "text": [
            "[[ 958   56]\n",
            " [  32 1165]]\n"
          ]
        },
        {
          "output_type": "execute_result",
          "data": {
            "text/plain": [
              "0.9601990049751243"
            ]
          },
          "metadata": {},
          "execution_count": 28
        }
      ]
    },
    {
      "cell_type": "code",
      "metadata": {
        "colab": {
          "base_uri": "https://localhost:8080/"
        },
        "id": "0ig-DNZIUkPY",
        "outputId": "d5582e8f-0e2f-4b1c-92b0-eaed07c2af1b"
      },
      "source": [
        "exec = [main(\"https://www.google.com/\"), main(\"https://kickass.sx/\"), main(\"https://www.netflix.com/in/\")]"
      ],
      "execution_count": 29,
      "outputs": [
        {
          "output_type": "stream",
          "name": "stdout",
          "text": [
            "Error trying to connect to socket: closing socket\n",
            "Error trying to connect to socket: closing socket\n",
            "[[1, 1, 1, 1, 1, 1, 1, 1, 1, 1, 1, 1, 0, 1, 1, 1, 1]]\n",
            "[[1, 1, 1, 1, 1, 1, 1, 0, 1, 1, 0, 0, 0, 0, 1, 0, 1]]\n",
            "Error trying to connect to socket: closing socket\n",
            "Error trying to connect to socket: closing socket\n",
            "[[1, 1, 1, 1, 1, 1, 1, 1, 1, 1, -1, 1, 0, 1, 1, 1, 1]]\n"
          ]
        }
      ]
    },
    {
      "cell_type": "code",
      "metadata": {
        "colab": {
          "base_uri": "https://localhost:8080/"
        },
        "id": "5ZS9nRqtOsrN",
        "outputId": "cbd7f596-e38b-494e-e752-5998c8365745"
      },
      "source": [
        "for value in exec:\n",
        "  print(classifier.predict(value))\n",
        "  if(classifier.predict(value) == [1]):\n",
        "    print(\"Safe\\n\")\n",
        "  else:\n",
        "    print(\"Phishing\\n\")"
      ],
      "execution_count": 30,
      "outputs": [
        {
          "output_type": "stream",
          "name": "stdout",
          "text": [
            "[1]\n",
            "Safe\n",
            "\n",
            "[-1]\n",
            "Phishing\n",
            "\n",
            "[1]\n",
            "Safe\n",
            "\n"
          ]
        }
      ]
    }
  ]
}